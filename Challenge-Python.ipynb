{
  "nbformat": 4,
  "nbformat_minor": 0,
  "metadata": {
    "colab": {
      "provenance": [],
      "collapsed_sections": [
        "RhEdWd9YUR6H",
        "X62IW3KFUIYm",
        "2V_vcAPzWZmR",
        "Rq6tU_xSY3jk",
        "DmNp1KPBZCm-",
        "Fl0cGi3bZKqU",
        "7H3vUUmVakQ3"
      ]
    },
    "kernelspec": {
      "name": "python3",
      "display_name": "Python 3"
    },
    "language_info": {
      "name": "python"
    }
  },
  "cells": [
    {
      "cell_type": "markdown",
      "source": [
        "### Importação dos dados\n",
        "\n"
      ],
      "metadata": {
        "id": "RhEdWd9YUR6H"
      }
    },
    {
      "cell_type": "code",
      "execution_count": 35,
      "metadata": {
        "colab": {
          "base_uri": "https://localhost:8080/",
          "height": 0
        },
        "id": "T3EvaeQ_INIL",
        "outputId": "0034fc30-f7f7-43e3-a549-67a0c49881bb"
      },
      "outputs": [
        {
          "output_type": "execute_result",
          "data": {
            "text/plain": [
              "                 Produto Categoria do Produto    Preço      Frete  \\\n",
              "0     Assistente virtual          eletronicos   219.08   9.249790   \n",
              "1         Mesa de jantar               moveis   256.35  11.234305   \n",
              "2      Jogo de tabuleiro           brinquedos   279.51  21.262681   \n",
              "3            Micro-ondas     eletrodomesticos  1009.99  54.667344   \n",
              "4  Cadeira de escritório               moveis   446.99  26.964689   \n",
              "\n",
              "  Data da Compra        Vendedor Local da compra  Avaliação da compra  \\\n",
              "0     16/01/2021     Pedro Gomes              SP                    4   \n",
              "1     18/05/2022  Beatriz Moraes              RJ                    1   \n",
              "2     15/03/2021      João Souza              DF                    1   \n",
              "3     03/05/2022      João Souza              RS                    4   \n",
              "4     07/11/2020   Larissa Alves              MG                    5   \n",
              "\n",
              "  Tipo de pagamento  Quantidade de parcelas    lat    lon  \n",
              "0    cartao_credito                       8 -22.19 -48.79  \n",
              "1    cartao_credito                       4 -22.25 -42.66  \n",
              "2    cartao_credito                       1 -15.83 -47.86  \n",
              "3            boleto                       1 -30.17 -53.50  \n",
              "4            boleto                       1 -18.10 -44.38  "
            ],
            "text/html": [
              "\n",
              "  <div id=\"df-7f7fb868-0796-4770-9a7f-f4a98a30ee85\" class=\"colab-df-container\">\n",
              "    <div>\n",
              "<style scoped>\n",
              "    .dataframe tbody tr th:only-of-type {\n",
              "        vertical-align: middle;\n",
              "    }\n",
              "\n",
              "    .dataframe tbody tr th {\n",
              "        vertical-align: top;\n",
              "    }\n",
              "\n",
              "    .dataframe thead th {\n",
              "        text-align: right;\n",
              "    }\n",
              "</style>\n",
              "<table border=\"1\" class=\"dataframe\">\n",
              "  <thead>\n",
              "    <tr style=\"text-align: right;\">\n",
              "      <th></th>\n",
              "      <th>Produto</th>\n",
              "      <th>Categoria do Produto</th>\n",
              "      <th>Preço</th>\n",
              "      <th>Frete</th>\n",
              "      <th>Data da Compra</th>\n",
              "      <th>Vendedor</th>\n",
              "      <th>Local da compra</th>\n",
              "      <th>Avaliação da compra</th>\n",
              "      <th>Tipo de pagamento</th>\n",
              "      <th>Quantidade de parcelas</th>\n",
              "      <th>lat</th>\n",
              "      <th>lon</th>\n",
              "    </tr>\n",
              "  </thead>\n",
              "  <tbody>\n",
              "    <tr>\n",
              "      <th>0</th>\n",
              "      <td>Assistente virtual</td>\n",
              "      <td>eletronicos</td>\n",
              "      <td>219.08</td>\n",
              "      <td>9.249790</td>\n",
              "      <td>16/01/2021</td>\n",
              "      <td>Pedro Gomes</td>\n",
              "      <td>SP</td>\n",
              "      <td>4</td>\n",
              "      <td>cartao_credito</td>\n",
              "      <td>8</td>\n",
              "      <td>-22.19</td>\n",
              "      <td>-48.79</td>\n",
              "    </tr>\n",
              "    <tr>\n",
              "      <th>1</th>\n",
              "      <td>Mesa de jantar</td>\n",
              "      <td>moveis</td>\n",
              "      <td>256.35</td>\n",
              "      <td>11.234305</td>\n",
              "      <td>18/05/2022</td>\n",
              "      <td>Beatriz Moraes</td>\n",
              "      <td>RJ</td>\n",
              "      <td>1</td>\n",
              "      <td>cartao_credito</td>\n",
              "      <td>4</td>\n",
              "      <td>-22.25</td>\n",
              "      <td>-42.66</td>\n",
              "    </tr>\n",
              "    <tr>\n",
              "      <th>2</th>\n",
              "      <td>Jogo de tabuleiro</td>\n",
              "      <td>brinquedos</td>\n",
              "      <td>279.51</td>\n",
              "      <td>21.262681</td>\n",
              "      <td>15/03/2021</td>\n",
              "      <td>João Souza</td>\n",
              "      <td>DF</td>\n",
              "      <td>1</td>\n",
              "      <td>cartao_credito</td>\n",
              "      <td>1</td>\n",
              "      <td>-15.83</td>\n",
              "      <td>-47.86</td>\n",
              "    </tr>\n",
              "    <tr>\n",
              "      <th>3</th>\n",
              "      <td>Micro-ondas</td>\n",
              "      <td>eletrodomesticos</td>\n",
              "      <td>1009.99</td>\n",
              "      <td>54.667344</td>\n",
              "      <td>03/05/2022</td>\n",
              "      <td>João Souza</td>\n",
              "      <td>RS</td>\n",
              "      <td>4</td>\n",
              "      <td>boleto</td>\n",
              "      <td>1</td>\n",
              "      <td>-30.17</td>\n",
              "      <td>-53.50</td>\n",
              "    </tr>\n",
              "    <tr>\n",
              "      <th>4</th>\n",
              "      <td>Cadeira de escritório</td>\n",
              "      <td>moveis</td>\n",
              "      <td>446.99</td>\n",
              "      <td>26.964689</td>\n",
              "      <td>07/11/2020</td>\n",
              "      <td>Larissa Alves</td>\n",
              "      <td>MG</td>\n",
              "      <td>5</td>\n",
              "      <td>boleto</td>\n",
              "      <td>1</td>\n",
              "      <td>-18.10</td>\n",
              "      <td>-44.38</td>\n",
              "    </tr>\n",
              "  </tbody>\n",
              "</table>\n",
              "</div>\n",
              "    <div class=\"colab-df-buttons\">\n",
              "\n",
              "  <div class=\"colab-df-container\">\n",
              "    <button class=\"colab-df-convert\" onclick=\"convertToInteractive('df-7f7fb868-0796-4770-9a7f-f4a98a30ee85')\"\n",
              "            title=\"Convert this dataframe to an interactive table.\"\n",
              "            style=\"display:none;\">\n",
              "\n",
              "  <svg xmlns=\"http://www.w3.org/2000/svg\" height=\"24px\" viewBox=\"0 -960 960 960\">\n",
              "    <path d=\"M120-120v-720h720v720H120Zm60-500h600v-160H180v160Zm220 220h160v-160H400v160Zm0 220h160v-160H400v160ZM180-400h160v-160H180v160Zm440 0h160v-160H620v160ZM180-180h160v-160H180v160Zm440 0h160v-160H620v160Z\"/>\n",
              "  </svg>\n",
              "    </button>\n",
              "\n",
              "  <style>\n",
              "    .colab-df-container {\n",
              "      display:flex;\n",
              "      gap: 12px;\n",
              "    }\n",
              "\n",
              "    .colab-df-convert {\n",
              "      background-color: #E8F0FE;\n",
              "      border: none;\n",
              "      border-radius: 50%;\n",
              "      cursor: pointer;\n",
              "      display: none;\n",
              "      fill: #1967D2;\n",
              "      height: 32px;\n",
              "      padding: 0 0 0 0;\n",
              "      width: 32px;\n",
              "    }\n",
              "\n",
              "    .colab-df-convert:hover {\n",
              "      background-color: #E2EBFA;\n",
              "      box-shadow: 0px 1px 2px rgba(60, 64, 67, 0.3), 0px 1px 3px 1px rgba(60, 64, 67, 0.15);\n",
              "      fill: #174EA6;\n",
              "    }\n",
              "\n",
              "    .colab-df-buttons div {\n",
              "      margin-bottom: 4px;\n",
              "    }\n",
              "\n",
              "    [theme=dark] .colab-df-convert {\n",
              "      background-color: #3B4455;\n",
              "      fill: #D2E3FC;\n",
              "    }\n",
              "\n",
              "    [theme=dark] .colab-df-convert:hover {\n",
              "      background-color: #434B5C;\n",
              "      box-shadow: 0px 1px 3px 1px rgba(0, 0, 0, 0.15);\n",
              "      filter: drop-shadow(0px 1px 2px rgba(0, 0, 0, 0.3));\n",
              "      fill: #FFFFFF;\n",
              "    }\n",
              "  </style>\n",
              "\n",
              "    <script>\n",
              "      const buttonEl =\n",
              "        document.querySelector('#df-7f7fb868-0796-4770-9a7f-f4a98a30ee85 button.colab-df-convert');\n",
              "      buttonEl.style.display =\n",
              "        google.colab.kernel.accessAllowed ? 'block' : 'none';\n",
              "\n",
              "      async function convertToInteractive(key) {\n",
              "        const element = document.querySelector('#df-7f7fb868-0796-4770-9a7f-f4a98a30ee85');\n",
              "        const dataTable =\n",
              "          await google.colab.kernel.invokeFunction('convertToInteractive',\n",
              "                                                    [key], {});\n",
              "        if (!dataTable) return;\n",
              "\n",
              "        const docLinkHtml = 'Like what you see? Visit the ' +\n",
              "          '<a target=\"_blank\" href=https://colab.research.google.com/notebooks/data_table.ipynb>data table notebook</a>'\n",
              "          + ' to learn more about interactive tables.';\n",
              "        element.innerHTML = '';\n",
              "        dataTable['output_type'] = 'display_data';\n",
              "        await google.colab.output.renderOutput(dataTable, element);\n",
              "        const docLink = document.createElement('div');\n",
              "        docLink.innerHTML = docLinkHtml;\n",
              "        element.appendChild(docLink);\n",
              "      }\n",
              "    </script>\n",
              "  </div>\n",
              "\n",
              "\n",
              "    <div id=\"df-df229f12-0daa-4550-bc85-a7b597800173\">\n",
              "      <button class=\"colab-df-quickchart\" onclick=\"quickchart('df-df229f12-0daa-4550-bc85-a7b597800173')\"\n",
              "                title=\"Suggest charts\"\n",
              "                style=\"display:none;\">\n",
              "\n",
              "<svg xmlns=\"http://www.w3.org/2000/svg\" height=\"24px\"viewBox=\"0 0 24 24\"\n",
              "     width=\"24px\">\n",
              "    <g>\n",
              "        <path d=\"M19 3H5c-1.1 0-2 .9-2 2v14c0 1.1.9 2 2 2h14c1.1 0 2-.9 2-2V5c0-1.1-.9-2-2-2zM9 17H7v-7h2v7zm4 0h-2V7h2v10zm4 0h-2v-4h2v4z\"/>\n",
              "    </g>\n",
              "</svg>\n",
              "      </button>\n",
              "\n",
              "<style>\n",
              "  .colab-df-quickchart {\n",
              "      --bg-color: #E8F0FE;\n",
              "      --fill-color: #1967D2;\n",
              "      --hover-bg-color: #E2EBFA;\n",
              "      --hover-fill-color: #174EA6;\n",
              "      --disabled-fill-color: #AAA;\n",
              "      --disabled-bg-color: #DDD;\n",
              "  }\n",
              "\n",
              "  [theme=dark] .colab-df-quickchart {\n",
              "      --bg-color: #3B4455;\n",
              "      --fill-color: #D2E3FC;\n",
              "      --hover-bg-color: #434B5C;\n",
              "      --hover-fill-color: #FFFFFF;\n",
              "      --disabled-bg-color: #3B4455;\n",
              "      --disabled-fill-color: #666;\n",
              "  }\n",
              "\n",
              "  .colab-df-quickchart {\n",
              "    background-color: var(--bg-color);\n",
              "    border: none;\n",
              "    border-radius: 50%;\n",
              "    cursor: pointer;\n",
              "    display: none;\n",
              "    fill: var(--fill-color);\n",
              "    height: 32px;\n",
              "    padding: 0;\n",
              "    width: 32px;\n",
              "  }\n",
              "\n",
              "  .colab-df-quickchart:hover {\n",
              "    background-color: var(--hover-bg-color);\n",
              "    box-shadow: 0 1px 2px rgba(60, 64, 67, 0.3), 0 1px 3px 1px rgba(60, 64, 67, 0.15);\n",
              "    fill: var(--button-hover-fill-color);\n",
              "  }\n",
              "\n",
              "  .colab-df-quickchart-complete:disabled,\n",
              "  .colab-df-quickchart-complete:disabled:hover {\n",
              "    background-color: var(--disabled-bg-color);\n",
              "    fill: var(--disabled-fill-color);\n",
              "    box-shadow: none;\n",
              "  }\n",
              "\n",
              "  .colab-df-spinner {\n",
              "    border: 2px solid var(--fill-color);\n",
              "    border-color: transparent;\n",
              "    border-bottom-color: var(--fill-color);\n",
              "    animation:\n",
              "      spin 1s steps(1) infinite;\n",
              "  }\n",
              "\n",
              "  @keyframes spin {\n",
              "    0% {\n",
              "      border-color: transparent;\n",
              "      border-bottom-color: var(--fill-color);\n",
              "      border-left-color: var(--fill-color);\n",
              "    }\n",
              "    20% {\n",
              "      border-color: transparent;\n",
              "      border-left-color: var(--fill-color);\n",
              "      border-top-color: var(--fill-color);\n",
              "    }\n",
              "    30% {\n",
              "      border-color: transparent;\n",
              "      border-left-color: var(--fill-color);\n",
              "      border-top-color: var(--fill-color);\n",
              "      border-right-color: var(--fill-color);\n",
              "    }\n",
              "    40% {\n",
              "      border-color: transparent;\n",
              "      border-right-color: var(--fill-color);\n",
              "      border-top-color: var(--fill-color);\n",
              "    }\n",
              "    60% {\n",
              "      border-color: transparent;\n",
              "      border-right-color: var(--fill-color);\n",
              "    }\n",
              "    80% {\n",
              "      border-color: transparent;\n",
              "      border-right-color: var(--fill-color);\n",
              "      border-bottom-color: var(--fill-color);\n",
              "    }\n",
              "    90% {\n",
              "      border-color: transparent;\n",
              "      border-bottom-color: var(--fill-color);\n",
              "    }\n",
              "  }\n",
              "</style>\n",
              "\n",
              "      <script>\n",
              "        async function quickchart(key) {\n",
              "          const quickchartButtonEl =\n",
              "            document.querySelector('#' + key + ' button');\n",
              "          quickchartButtonEl.disabled = true;  // To prevent multiple clicks.\n",
              "          quickchartButtonEl.classList.add('colab-df-spinner');\n",
              "          try {\n",
              "            const charts = await google.colab.kernel.invokeFunction(\n",
              "                'suggestCharts', [key], {});\n",
              "          } catch (error) {\n",
              "            console.error('Error during call to suggestCharts:', error);\n",
              "          }\n",
              "          quickchartButtonEl.classList.remove('colab-df-spinner');\n",
              "          quickchartButtonEl.classList.add('colab-df-quickchart-complete');\n",
              "        }\n",
              "        (() => {\n",
              "          let quickchartButtonEl =\n",
              "            document.querySelector('#df-df229f12-0daa-4550-bc85-a7b597800173 button');\n",
              "          quickchartButtonEl.style.display =\n",
              "            google.colab.kernel.accessAllowed ? 'block' : 'none';\n",
              "        })();\n",
              "      </script>\n",
              "    </div>\n",
              "\n",
              "    </div>\n",
              "  </div>\n"
            ],
            "application/vnd.google.colaboratory.intrinsic+json": {
              "type": "dataframe",
              "variable_name": "loja",
              "summary": "{\n  \"name\": \"loja\",\n  \"rows\": 2359,\n  \"fields\": [\n    {\n      \"column\": \"Produto\",\n      \"properties\": {\n        \"dtype\": \"category\",\n        \"num_unique_values\": 51,\n        \"samples\": [\n          \"Viol\\u00e3o\",\n          \"Bola de basquete\",\n          \"Smartwatch\"\n        ],\n        \"semantic_type\": \"\",\n        \"description\": \"\"\n      }\n    },\n    {\n      \"column\": \"Categoria do Produto\",\n      \"properties\": {\n        \"dtype\": \"category\",\n        \"num_unique_values\": 8,\n        \"samples\": [\n          \"moveis\",\n          \"esporte e lazer\",\n          \"eletronicos\"\n        ],\n        \"semantic_type\": \"\",\n        \"description\": \"\"\n      }\n    },\n    {\n      \"column\": \"Pre\\u00e7o\",\n      \"properties\": {\n        \"dtype\": \"number\",\n        \"std\": 819.5827782539145,\n        \"min\": 10.07,\n        \"max\": 3969.38,\n        \"num_unique_values\": 2315,\n        \"samples\": [\n          446.11,\n          107.31,\n          65.86\n        ],\n        \"semantic_type\": \"\",\n        \"description\": \"\"\n      }\n    },\n    {\n      \"column\": \"Frete\",\n      \"properties\": {\n        \"dtype\": \"number\",\n        \"std\": 43.814183327408166,\n        \"min\": 0.0,\n        \"max\": 214.3770604781,\n        \"num_unique_values\": 2149,\n        \"samples\": [\n          83.815279607,\n          16.069664669,\n          14.0344876928\n        ],\n        \"semantic_type\": \"\",\n        \"description\": \"\"\n      }\n    },\n    {\n      \"column\": \"Data da Compra\",\n      \"properties\": {\n        \"dtype\": \"object\",\n        \"num_unique_values\": 1018,\n        \"samples\": [\n          \"15/09/2022\",\n          \"03/06/2020\",\n          \"06/11/2021\"\n        ],\n        \"semantic_type\": \"\",\n        \"description\": \"\"\n      }\n    },\n    {\n      \"column\": \"Vendedor\",\n      \"properties\": {\n        \"dtype\": \"category\",\n        \"num_unique_values\": 14,\n        \"samples\": [\n          \"Juliana Costa\",\n          \"Mariana Ferreira\",\n          \"Pedro Gomes\"\n        ],\n        \"semantic_type\": \"\",\n        \"description\": \"\"\n      }\n    },\n    {\n      \"column\": \"Local da compra\",\n      \"properties\": {\n        \"dtype\": \"category\",\n        \"num_unique_values\": 26,\n        \"samples\": [\n          \"TO\",\n          \"RN\",\n          \"SP\"\n        ],\n        \"semantic_type\": \"\",\n        \"description\": \"\"\n      }\n    },\n    {\n      \"column\": \"Avalia\\u00e7\\u00e3o da compra\",\n      \"properties\": {\n        \"dtype\": \"number\",\n        \"std\": 1,\n        \"min\": 1,\n        \"max\": 5,\n        \"num_unique_values\": 5,\n        \"samples\": [\n          1,\n          2,\n          5\n        ],\n        \"semantic_type\": \"\",\n        \"description\": \"\"\n      }\n    },\n    {\n      \"column\": \"Tipo de pagamento\",\n      \"properties\": {\n        \"dtype\": \"category\",\n        \"num_unique_values\": 4,\n        \"samples\": [\n          \"boleto\",\n          \"cartao_debito\",\n          \"cartao_credito\"\n        ],\n        \"semantic_type\": \"\",\n        \"description\": \"\"\n      }\n    },\n    {\n      \"column\": \"Quantidade de parcelas\",\n      \"properties\": {\n        \"dtype\": \"number\",\n        \"std\": 2,\n        \"min\": 1,\n        \"max\": 24,\n        \"num_unique_values\": 15,\n        \"samples\": [\n          7,\n          14,\n          8\n        ],\n        \"semantic_type\": \"\",\n        \"description\": \"\"\n      }\n    },\n    {\n      \"column\": \"lat\",\n      \"properties\": {\n        \"dtype\": \"number\",\n        \"std\": 5.372399916530833,\n        \"min\": -30.17,\n        \"max\": 1.41,\n        \"num_unique_values\": 26,\n        \"samples\": [\n          -9.46,\n          -5.81,\n          -22.19\n        ],\n        \"semantic_type\": \"\",\n        \"description\": \"\"\n      }\n    },\n    {\n      \"column\": \"lon\",\n      \"properties\": {\n        \"dtype\": \"number\",\n        \"std\": 4.183180020544179,\n        \"min\": -70.55,\n        \"max\": -36.59,\n        \"num_unique_values\": 26,\n        \"samples\": [\n          -48.26,\n          -36.59,\n          -48.79\n        ],\n        \"semantic_type\": \"\",\n        \"description\": \"\"\n      }\n    }\n  ]\n}"
            }
          },
          "metadata": {},
          "execution_count": 35
        }
      ],
      "source": [
        "import pandas as pd\n",
        "\n",
        "url = \"https://raw.githubusercontent.com/alura-es-cursos/challenge1-data-science/refs/heads/main/base-de-dados-challenge-1/loja_1.csv\"\n",
        "url2 = \"https://raw.githubusercontent.com/alura-es-cursos/challenge1-data-science/refs/heads/main/base-de-dados-challenge-1/loja_2.csv\"\n",
        "url3 = \"https://raw.githubusercontent.com/alura-es-cursos/challenge1-data-science/refs/heads/main/base-de-dados-challenge-1/loja_3.csv\"\n",
        "url4 = \"https://raw.githubusercontent.com/alura-es-cursos/challenge1-data-science/refs/heads/main/base-de-dados-challenge-1/loja_4.csv\"\n",
        "\n",
        "loja = pd.read_csv(url)\n",
        "loja2 = pd.read_csv(url2)\n",
        "loja3 = pd.read_csv(url3)\n",
        "loja4 = pd.read_csv(url4)\n",
        "\n",
        "loja.head()"
      ]
    },
    {
      "cell_type": "markdown",
      "source": [
        "#1. Análise do faturamento\n"
      ],
      "metadata": {
        "id": "X62IW3KFUIYm"
      }
    },
    {
      "cell_type": "code",
      "source": [
        "# Faturamento total por loja\n",
        "faturamento_por_loja1 = loja[\"Preço\"].sum()\n",
        "faturamento_por_loja2 = loja2[\"Preço\"].sum()\n",
        "faturamento_por_loja3 = loja3[\"Preço\"].sum()\n",
        "faturamento_por_loja4 = loja4[\"Preço\"].sum()\n",
        "\n",
        "# Exibir os resultados\n",
        "print(f'O faturamento total da loja 1 é de R${faturamento_por_loja1}')\n",
        "print(f'O faturamento total da loja 2 é de R${faturamento_por_loja2}')\n",
        "print(f'O faturamento total da loja 3 é de R${faturamento_por_loja3}')\n",
        "print(f'O faturamento total da loja 4 é de R${faturamento_por_loja4}')"
      ],
      "metadata": {
        "id": "xykobSftV64I",
        "colab": {
          "base_uri": "https://localhost:8080/"
        },
        "outputId": "217e918e-2fbd-41df-cd64-33f94f17f996"
      },
      "execution_count": 36,
      "outputs": [
        {
          "output_type": "stream",
          "name": "stdout",
          "text": [
            "O faturamento total da loja 1 é de R$1534509.12\n",
            "O faturamento total da loja 2 é de R$1488459.06\n",
            "O faturamento total da loja 3 é de R$1464025.03\n",
            "O faturamento total da loja 4 é de R$1384497.58\n"
          ]
        }
      ]
    },
    {
      "cell_type": "markdown",
      "source": [
        "# 2. Vendas por Categoria\n"
      ],
      "metadata": {
        "id": "2V_vcAPzWZmR"
      }
    },
    {
      "cell_type": "code",
      "source": [
        "# Contar a quantidade de produtos vendidos por categoria\n",
        "vendas_por_categoria = loja[\"Categoria do Produto\"].value_counts().reset_index()\n",
        "vendas_por_categoria.columns = [\"Categoria do Produto\", \"Quantidade de vendas\"]\n",
        "\n",
        "# Exibir os resultados\n",
        "print('Resultados da Loja 1:')\n",
        "print(vendas_por_categoria)"
      ],
      "metadata": {
        "id": "A34YupIuYhfF",
        "colab": {
          "base_uri": "https://localhost:8080/"
        },
        "outputId": "ea9746c6-93d6-4b25-f25e-feab290a0ae2"
      },
      "execution_count": 37,
      "outputs": [
        {
          "output_type": "stream",
          "name": "stdout",
          "text": [
            "Resultados da Loja 1:\n",
            "    Categoria do Produto  Quantidade de vendas\n",
            "0                 moveis                   465\n",
            "1            eletronicos                   448\n",
            "2             brinquedos                   324\n",
            "3       eletrodomesticos                   312\n",
            "4        esporte e lazer                   284\n",
            "5  instrumentos musicais                   182\n",
            "6                 livros                   173\n",
            "7  utilidades domesticas                   171\n"
          ]
        }
      ]
    },
    {
      "cell_type": "code",
      "source": [
        "vendas_por_categoria = loja2[\"Categoria do Produto\"].value_counts().reset_index()\n",
        "vendas_por_categoria.columns = [\"Categoria do Produto\", \"Quantidade de vendas\"]\n",
        "\n",
        "print('Resultados da Loja 2:')\n",
        "print(vendas_por_categoria)"
      ],
      "metadata": {
        "id": "yZR6cOjXYSk1",
        "colab": {
          "base_uri": "https://localhost:8080/"
        },
        "outputId": "0f6cd036-991d-45fe-e849-200904940d69"
      },
      "execution_count": 38,
      "outputs": [
        {
          "output_type": "stream",
          "name": "stdout",
          "text": [
            "Resultados da Loja 2:\n",
            "    Categoria do Produto  Quantidade de vendas\n",
            "0                 moveis                   442\n",
            "1            eletronicos                   422\n",
            "2             brinquedos                   313\n",
            "3       eletrodomesticos                   305\n",
            "4        esporte e lazer                   275\n",
            "5  instrumentos musicais                   224\n",
            "6                 livros                   197\n",
            "7  utilidades domesticas                   181\n"
          ]
        }
      ]
    },
    {
      "cell_type": "code",
      "source": [
        "vendas_por_categoria = loja3[\"Categoria do Produto\"].value_counts().reset_index()\n",
        "vendas_por_categoria.columns = [\"Categoria do Produto\", \"Quantidade de vendas\"]\n",
        "\n",
        "print('Resultados da Loja 3:')\n",
        "print(vendas_por_categoria)"
      ],
      "metadata": {
        "colab": {
          "base_uri": "https://localhost:8080/"
        },
        "id": "ZUppqQiKXeFk",
        "outputId": "45673f58-c5ed-4e1f-a59a-0c4d92659a31"
      },
      "execution_count": 39,
      "outputs": [
        {
          "output_type": "stream",
          "name": "stdout",
          "text": [
            "Resultados da Loja 3:\n",
            "    Categoria do Produto  Quantidade de vendas\n",
            "0                 moveis                   499\n",
            "1            eletronicos                   451\n",
            "2             brinquedos                   315\n",
            "3       eletrodomesticos                   278\n",
            "4        esporte e lazer                   277\n",
            "5                 livros                   185\n",
            "6  instrumentos musicais                   177\n",
            "7  utilidades domesticas                   177\n"
          ]
        }
      ]
    },
    {
      "cell_type": "code",
      "source": [
        "vendas_por_categoria = loja4[\"Categoria do Produto\"].value_counts().reset_index()\n",
        "vendas_por_categoria.columns = [\"Categoria do Produto\", \"Quantidade de vendas\"]\n",
        "\n",
        "print('Resultados da Loja 4:')\n",
        "print(vendas_por_categoria)"
      ],
      "metadata": {
        "colab": {
          "base_uri": "https://localhost:8080/"
        },
        "id": "HGB3RbqyXiHD",
        "outputId": "334c5b4a-62ed-462d-a66f-c83d82df699c"
      },
      "execution_count": 40,
      "outputs": [
        {
          "output_type": "stream",
          "name": "stdout",
          "text": [
            "Resultados da Loja 4:\n",
            "    Categoria do Produto  Quantidade de vendas\n",
            "0                 moveis                   480\n",
            "1            eletronicos                   451\n",
            "2             brinquedos                   338\n",
            "3        esporte e lazer                   277\n",
            "4       eletrodomesticos                   254\n",
            "5  utilidades domesticas                   201\n",
            "6                 livros                   187\n",
            "7  instrumentos musicais                   170\n"
          ]
        }
      ]
    },
    {
      "cell_type": "markdown",
      "source": [
        "# 3. Média de Avaliação das Lojas"
      ],
      "metadata": {
        "id": "Rq6tU_xSY3jk"
      }
    },
    {
      "cell_type": "code",
      "source": [
        "# Calcular a média das avaliações dos clientes\n",
        "media_avaliacoes1 = loja[\"Avaliação da compra\"].mean()\n",
        "media_avaliacoes2 = loja2[\"Avaliação da compra\"].mean()\n",
        "media_avaliacoes3 = loja3[\"Avaliação da compra\"].mean()\n",
        "media_avaliacoes4 = loja4[\"Avaliação da compra\"].mean()\n",
        "\n",
        "# Exibir o resultado\n",
        "print(f\"A média das avaliações dos clientes para a loja 1 é: {media_avaliacoes1:.2f}\")\n",
        "print(f\"A média das avaliações dos clientes para a loja 2 é: {media_avaliacoes2:.2f}\")\n",
        "print(f\"A média das avaliações dos clientes para a loja 3 é: {media_avaliacoes3:.2f}\")\n",
        "print(f\"A média das avaliações dos clientes para a loja 4 é: {media_avaliacoes4:.2f}\")"
      ],
      "metadata": {
        "id": "bh3jjjJwY5MU",
        "colab": {
          "base_uri": "https://localhost:8080/"
        },
        "outputId": "4cfb0e32-d948-41f5-b4f3-ef5f5c0e449a"
      },
      "execution_count": 41,
      "outputs": [
        {
          "output_type": "stream",
          "name": "stdout",
          "text": [
            "A média das avaliações dos clientes para a loja 1 é: 3.98\n",
            "A média das avaliações dos clientes para a loja 2 é: 4.04\n",
            "A média das avaliações dos clientes para a loja 3 é: 4.05\n",
            "A média das avaliações dos clientes para a loja 4 é: 4.00\n"
          ]
        }
      ]
    },
    {
      "cell_type": "markdown",
      "source": [
        "# 4. Produtos Mais e Menos Vendidos"
      ],
      "metadata": {
        "id": "DmNp1KPBZCm-"
      }
    },
    {
      "cell_type": "code",
      "source": [
        "# Contar a quantidade de vendas por produto\n",
        "vendas_por_produto1 = loja[\"Produto\"].value_counts()\n",
        "\n",
        "# Identificar os produtos mais e menos vendidos\n",
        "mais_vendido1 = vendas_por_produto1.idxmax()\n",
        "quantidade_mais_vendido1 = vendas_por_produto1.max()\n",
        "\n",
        "menos_vendido1 = vendas_por_produto1.idxmin()\n",
        "quantidade_menos_vendido1 = vendas_por_produto1.min()\n",
        "\n",
        "# Exibir os resultados de forma clara\n",
        "print(\"=== Destaques nas vendas da Loja 1 ===\")\n",
        "print(f\"Produto mais vendido: {mais_vendido1} ({quantidade_mais_vendido1} unidades)\")\n",
        "print(f\"Produto menos vendido: {menos_vendido1} ({quantidade_menos_vendido1} unidades)\")\n"
      ],
      "metadata": {
        "id": "qoyjqijQZHfF",
        "colab": {
          "base_uri": "https://localhost:8080/"
        },
        "outputId": "30e74355-ed1f-4b8d-f998-1b9fcec26c3c"
      },
      "execution_count": 42,
      "outputs": [
        {
          "output_type": "stream",
          "name": "stdout",
          "text": [
            "=== Destaques nas vendas da Loja 1 ===\n",
            "Produto mais vendido: Micro-ondas (60 unidades)\n",
            "Produto menos vendido: Headset (33 unidades)\n"
          ]
        }
      ]
    },
    {
      "cell_type": "code",
      "source": [
        "vendas_por_produto2 = loja2[\"Produto\"].value_counts()\n",
        "\n",
        "mais_vendido2 = vendas_por_produto2.idxmax()\n",
        "quantidade_mais_vendido2 = vendas_por_produto2.max()\n",
        "\n",
        "menos_vendido2 = vendas_por_produto2.idxmin()\n",
        "quantidade_menos_vendido2 = vendas_por_produto2.min()\n",
        "\n",
        "print(\"=== Destaques nas vendas da Loja 2 ===\")\n",
        "print(f\"Produto mais vendido: {mais_vendido2} ({quantidade_mais_vendido2} unidades)\")\n",
        "print(f\"Produto menos vendido: {menos_vendido2} ({quantidade_menos_vendido2} unidades)\")"
      ],
      "metadata": {
        "id": "0Sw3sd4IZIGW",
        "colab": {
          "base_uri": "https://localhost:8080/"
        },
        "outputId": "e0582767-0e8b-43cd-ea50-53078caf6c89"
      },
      "execution_count": 43,
      "outputs": [
        {
          "output_type": "stream",
          "name": "stdout",
          "text": [
            "=== Destaques nas vendas da Loja 2 ===\n",
            "Produto mais vendido: Iniciando em programação (65 unidades)\n",
            "Produto menos vendido: Jogo de tabuleiro (32 unidades)\n"
          ]
        }
      ]
    },
    {
      "cell_type": "code",
      "source": [
        "vendas_por_produto3 = loja3[\"Produto\"].value_counts()\n",
        "\n",
        "mais_vendido3 = vendas_por_produto3.idxmax()\n",
        "quantidade_mais_vendido3 = vendas_por_produto3.max()\n",
        "\n",
        "menos_vendido3 = vendas_por_produto3.idxmin()\n",
        "quantidade_menos_vendido3 = vendas_por_produto3.min()\n",
        "\n",
        "print(\"=== Destaques nas vendas da Loja 3 ===\")\n",
        "print(f\"Produto mais vendido: {mais_vendido3} ({quantidade_mais_vendido3} unidades)\")\n",
        "print(f\"Produto menos vendido: {menos_vendido3} ({quantidade_menos_vendido3} unidades)\")"
      ],
      "metadata": {
        "colab": {
          "base_uri": "https://localhost:8080/"
        },
        "id": "3h0VXtaTY9hg",
        "outputId": "9c62442b-dbe0-41d0-d8ec-6f7c7fcba205"
      },
      "execution_count": 44,
      "outputs": [
        {
          "output_type": "stream",
          "name": "stdout",
          "text": [
            "=== Destaques nas vendas da Loja 3 ===\n",
            "Produto mais vendido: Kit banquetas (57 unidades)\n",
            "Produto menos vendido: Blocos de montar (35 unidades)\n"
          ]
        }
      ]
    },
    {
      "cell_type": "code",
      "source": [
        "vendas_por_produto4 = loja4[\"Produto\"].value_counts()\n",
        "\n",
        "mais_vendido4 = vendas_por_produto4.idxmax()\n",
        "quantidade_mais_vendido4 = vendas_por_produto4.max()\n",
        "\n",
        "menos_vendido4 = vendas_por_produto4.idxmin()\n",
        "quantidade_menos_vendido4 = vendas_por_produto4.min()\n",
        "\n",
        "print(\"=== Destaques nas vendas da Loja 4 ===\")\n",
        "print(f\"Produto mais vendido: {mais_vendido4} ({quantidade_mais_vendido4} unidades)\")\n",
        "print(f\"Produto menos vendido: {menos_vendido4} ({quantidade_menos_vendido4} unidades)\")"
      ],
      "metadata": {
        "colab": {
          "base_uri": "https://localhost:8080/"
        },
        "id": "hAdylHkWY9Ry",
        "outputId": "a23906da-de29-497e-cc60-6f398a4bb361"
      },
      "execution_count": 45,
      "outputs": [
        {
          "output_type": "stream",
          "name": "stdout",
          "text": [
            "=== Destaques nas vendas da Loja 4 ===\n",
            "Produto mais vendido: Cama box (62 unidades)\n",
            "Produto menos vendido: Guitarra (33 unidades)\n"
          ]
        }
      ]
    },
    {
      "cell_type": "markdown",
      "source": [
        "# 5. Frete Médio por Loja\n"
      ],
      "metadata": {
        "id": "Fl0cGi3bZKqU"
      }
    },
    {
      "cell_type": "code",
      "source": [
        "# Calcular o custo médio de frete\n",
        "custo_medio_frete1 = loja[\"Frete\"].mean()\n",
        "custo_medio_frete2 = loja2[\"Frete\"].mean()\n",
        "custo_medio_frete3 = loja3[\"Frete\"].mean()\n",
        "custo_medio_frete4 = loja4[\"Frete\"].mean()\n",
        "\n",
        "# Exibir o resultado\n",
        "print(f\"O custo médio de frete da loja 1 é: R$ {custo_medio_frete1:.2f}\")\n",
        "print(f\"O custo médio de frete da loja 2 é: R$ {custo_medio_frete2:.2f}\")\n",
        "print(f\"O custo médio de frete da loja 3 é: R$ {custo_medio_frete3:.2f}\")\n",
        "print(f\"O custo médio de frete da loja 4 é: R$ {custo_medio_frete4:.2f}\")\n"
      ],
      "metadata": {
        "id": "S2JeaCykZNy9",
        "colab": {
          "base_uri": "https://localhost:8080/"
        },
        "outputId": "512fc72e-bd25-4646-cc72-28828cf4f8b5"
      },
      "execution_count": 46,
      "outputs": [
        {
          "output_type": "stream",
          "name": "stdout",
          "text": [
            "O custo médio de frete da loja 1 é: R$ 34.69\n",
            "O custo médio de frete da loja 2 é: R$ 33.62\n",
            "O custo médio de frete da loja 3 é: R$ 33.07\n",
            "O custo médio de frete da loja 4 é: R$ 31.28\n"
          ]
        }
      ]
    },
    {
      "cell_type": "markdown",
      "source": [
        "#Relatório final"
      ],
      "metadata": {
        "id": "G5uCXpwrZv7C"
      }
    },
    {
      "cell_type": "markdown",
      "source": [
        "#Análise Detalhada das Lojas da Alura Store\n",
        "\n",
        "Para identificar a loja com menor eficiência e recomendar uma decisão estratégica, consideramos três fatores essenciais: faturamento total, média de avaliação dos clientes e custo médio de frete. Vamos analisar cada um desses aspectos individualmente."
      ],
      "metadata": {
        "id": "M27Vw938Z1g2"
      }
    },
    {
      "cell_type": "markdown",
      "source": [
        "####1. Faturamento das Lojas\n",
        "O faturamento total reflete o volume de vendas e a geração de receita de cada unidade. Aqui estão os números:\n",
        "- Loja 1: R$1.534.509,12\n",
        "\n",
        "- Loja 2: R$1.488.459,06\n",
        "\n",
        "- Loja 3: R$1.464.025,03\n",
        "\n",
        "- Loja 4: R$1.384.497,58\n",
        "\n",
        "A **Loja 4** apresenta o menor faturamento entre as quatro unidades, com R$1.384.497,58, o que pode indicar menor volume de vendas ou menor capacidade de gerar receita. Esse dado é um dos principais indicativos de desempenho e pode sugerir que a loja enfrenta desafios operacionais ou de demanda."
      ],
      "metadata": {
        "id": "7H3vUUmVakQ3"
      }
    },
    {
      "cell_type": "code",
      "source": [
        "import matplotlib.pyplot as plt\n",
        "\n",
        "lojas = ['Loja 1', 'Loja 2', 'Loja 3', 'Loja 4']\n",
        "faturamento = [faturamento_por_loja1, faturamento_por_loja2, faturamento_por_loja3, faturamento_por_loja4]\n",
        "\n",
        "plt.figure(figsize=(5, 5))\n",
        "plt.pie(faturamento, labels=lojas, autopct='%1.1f%%', startangle=140, colors=['#ff9999','#66b3ff','#99ff99','#ffcc99'])\n",
        "\n",
        "plt.title('Faturamento das Lojas da Alura Store')\n",
        "\n",
        "plt.show()"
      ],
      "metadata": {
        "colab": {
          "base_uri": "https://localhost:8080/",
          "height": 0
        },
        "id": "slr6kiaNbmbv",
        "outputId": "d568ac97-2fab-48e7-ac45-e6c0a004e423"
      },
      "execution_count": 47,
      "outputs": [
        {
          "output_type": "display_data",
          "data": {
            "text/plain": [
              "<Figure size 500x500 with 1 Axes>"
            ],
            "image/png": "[encoded data removed]"
          },
          "metadata": {}
        }
      ]
    },
    {
      "cell_type": "markdown",
      "source": [
        "\n",
        "####2. Avaliações dos Clientes\n",
        "As avaliações dos clientes são um reflexo da experiência de compra, qualidade dos produtos e atendimento. As médias de avaliação de cada loja são:\n",
        "- Loja 1: 3.98\n",
        "- Loja 2: 4.04\n",
        "- Loja 3: 4.05\n",
        "- Loja 4: 4.00\n",
        "\n",
        "Embora a Loja 1 apresente a menor média de avaliação (3.98), a diferença entre as notas não é tão significativa. No entanto, uma avaliação ligeiramente menor pode indicar problemas na qualidade do serviço ou insatisfação dos clientes.\n"
      ],
      "metadata": {
        "id": "d7MLGurfaphp"
      }
    },
    {
      "cell_type": "code",
      "source": [
        "import matplotlib.pyplot as plt\n",
        "\n",
        "lojas = ['Loja 1', 'Loja 2', 'Loja 3', 'Loja 4']\n",
        "avaliacoes = [media_avaliacoes1, media_avaliacoes2, media_avaliacoes3, media_avaliacoes4]\n",
        "\n",
        "plt.figure(figsize=(5, 3))\n",
        "plt.bar(lojas, avaliacoes, color=['#ff9999','#66b3ff','#99ff99','#ffcc99'])\n",
        "\n",
        "plt.xlabel('Lojas')\n",
        "plt.ylabel('Média de Avaliação')\n",
        "plt.title('Média de Avaliação dos Clientes por Loja')\n",
        "\n",
        "for i, v in enumerate(avaliacoes):\n",
        "    plt.text(i, v + 0.02, f'{v:.2f}', ha='center', fontsize=12)\n",
        "\n",
        "plt.ylim(3.8, 4.1)\n",
        "plt.show()"
      ],
      "metadata": {
        "colab": {
          "base_uri": "https://localhost:8080/",
          "height": 334
        },
        "id": "J_Fb0AYtcnNM",
        "outputId": "d447a8c8-db4e-46a5-d088-ce917b9ea9b0"
      },
      "execution_count": 48,
      "outputs": [
        {
          "output_type": "display_data",
          "data": {
            "text/plain": [
              "<Figure size 500x300 with 1 Axes>"
            ],
            "image/png": "[encoded data removed]"
          },
          "metadata": {}
        }
      ]
    },
    {
      "cell_type": "markdown",
      "source": [
        "####3. Custo Médio de Frete\n",
        "O custo médio de frete impacta diretamente a percepção de valor da loja, podendo influenciar a decisão dos clientes na hora da compra. Os custos médios por loja são:\n",
        "- Loja 1: R$34.69\n",
        "\n",
        "- Loja 2: R$33.62\n",
        "\n",
        "- Loja 3: R$33.07\n",
        "\n",
        "- Loja 4: R$31.28\n",
        "\n",
        "A Loja 4 tem o menor custo médio de frete (R$31.28), o que pode ser um fator positivo para os clientes. No entanto, um frete mais barato não necessariamente compensa um faturamento mais baixo."
      ],
      "metadata": {
        "id": "40N3mOtKasMZ"
      }
    },
    {
      "cell_type": "code",
      "source": [
        "import matplotlib.pyplot as plt\n",
        "\n",
        "lojas = ['Loja 1', 'Loja 2', 'Loja 3', 'Loja 4']\n",
        "frete_medio = [custo_medio_frete1, custo_medio_frete2, custo_medio_frete3, custo_medio_frete4]\n",
        "\n",
        "plt.figure(figsize=(7, 3))\n",
        "plt.scatter(lojas, frete_medio, color='#66b3ff', s=50)\n",
        "\n",
        "plt.xlabel('Lojas')\n",
        "plt.ylabel('Custo Médio do Frete (R$)')\n",
        "plt.title('Gráfico de Dispersão do Custo Médio do Frete por Loja')\n",
        "\n",
        "for i, v in enumerate(frete_medio):\n",
        "    plt.text(lojas[i], v + 0.2, f'R${v:.2f}', ha='center', fontsize=8)\n",
        "\n",
        "plt.ylim(30, 36)\n",
        "\n",
        "plt.show()"
      ],
      "metadata": {
        "colab": {
          "base_uri": "https://localhost:8080/",
          "height": 334
        },
        "id": "SqzcazUBdH1R",
        "outputId": "c2f68aca-c330-4e1c-8ac9-3a8ae793840a"
      },
      "execution_count": 49,
      "outputs": [
        {
          "output_type": "display_data",
          "data": {
            "text/plain": [
              "<Figure size 700x300 with 1 Axes>"
            ],
            "image/png": "[encoded data removed]"
          },
          "metadata": {}
        }
      ]
    },
    {
      "cell_type": "markdown",
      "source": [
        "####Conclusão e Recomendação\n",
        "\n",
        "Com base nos dados apresentados, a **Loja 4** se destaca como a menos eficiente, pois tem o menor faturamento, uma avaliação apenas mediana e o menor custo de frete. Se o objetivo do Senhor João é vender uma loja para viabilizar um novo empreendimento, a Loja 4 pode ser a escolha mais estratégica. Seu desempenho inferior pode indicar desafios operacionais ou de localização, tornando-a uma opção lógica para desinvestimento.\n",
        "\n"
      ],
      "metadata": {
        "id": "u87I6azKayC-"
      }
    }
  ]
}